{
 "cells": [
  {
   "cell_type": "code",
   "execution_count": 1,
   "metadata": {},
   "outputs": [],
   "source": [
    "import matplotlib as mpl\n",
    "import matplotlib.pyplot as plt\n",
    "\n",
    "import numpy as np\n",
    "import sklearn\n",
    "import  pandas as pd\n",
    "import os\n",
    "import sys\n",
    "import time\n",
    "import tensorflow as tf\n",
    "\n",
    "from tensorflow import keras"
   ]
  },
  {
   "cell_type": "code",
   "execution_count": 2,
   "metadata": {},
   "outputs": [
    {
     "name": "stdout",
     "output_type": "stream",
     "text": [
      "2.0.0\n",
      "sys.version_info(major=3, minor=6, micro=2, releaselevel='final', serial=0)\n",
      "matplotlib 3.1.1\n",
      "numpy 1.17.4\n",
      "pandas 0.25.3\n",
      "sklearn 0.22\n",
      "tensorflow 2.0.0\n",
      "tensorflow_core.keras 2.2.4-tf\n"
     ]
    }
   ],
   "source": [
    "print(tf.__version__)\n",
    "print(sys.version_info)\n",
    "for module in mpl,np,pd,sklearn,tf,keras:\n",
    "    print(module.__name__,module.__version__)\n"
   ]
  },
  {
   "cell_type": "code",
   "execution_count": 3,
   "metadata": {},
   "outputs": [
    {
     "name": "stdout",
     "output_type": "stream",
     "text": [
      "(20640, 8)\n",
      "(20640,)\n"
     ]
    }
   ],
   "source": [
    "from sklearn.datasets import fetch_california_housing\n",
    "\n",
    "housing = fetch_california_housing()\n",
    "# print(housing.DESCR)\n",
    "print(housing.data.shape)\n",
    "print(housing.target.shape)"
   ]
  },
  {
   "cell_type": "code",
   "execution_count": 4,
   "metadata": {},
   "outputs": [
    {
     "name": "stdout",
     "output_type": "stream",
     "text": [
      "(11610, 8) (11610,)\n",
      "(3870, 8) (3870,)\n",
      "(5160, 8) (5160,)\n"
     ]
    }
   ],
   "source": [
    "from sklearn.model_selection import train_test_split\n",
    "\n",
    "x_train_all, x_test, y_train_all, y_test = train_test_split(\n",
    "    housing.data, housing.target, random_state = 7)\n",
    "x_train, x_valid, y_train, y_valid = train_test_split(\n",
    "    x_train_all, y_train_all, random_state = 11)\n",
    "print(x_train.shape, y_train.shape)\n",
    "print(x_valid.shape, y_valid.shape)\n",
    "print(x_test.shape, y_test.shape)\n"
   ]
  },
  {
   "cell_type": "code",
   "execution_count": 5,
   "metadata": {},
   "outputs": [
    {
     "name": "stdout",
     "output_type": "stream",
     "text": [
      "(11610, 8)\n",
      "(8,)\n"
     ]
    }
   ],
   "source": [
    "from sklearn.preprocessing import StandardScaler\n",
    "\n",
    "scaler = StandardScaler()\n",
    "x_train_scaled = scaler.fit_transform(x_train)\n",
    "x_valid_scaled = scaler.transform(x_valid)\n",
    "x_test_scaled = scaler.transform(x_test)\n",
    "print(x_train.shape)\n",
    "print(x_train.shape[1:])"
   ]
  },
  {
   "cell_type": "code",
   "execution_count": 6,
   "metadata": {},
   "outputs": [
    {
     "name": "stdout",
     "output_type": "stream",
     "text": [
      "Model: \"model\"\n",
      "__________________________________________________________________________________________________\n",
      "Layer (type)                    Output Shape         Param #     Connected to                     \n",
      "==================================================================================================\n",
      "input_2 (InputLayer)            [(None, 6)]          0                                            \n",
      "__________________________________________________________________________________________________\n",
      "dense (Dense)                   (None, 30)           210         input_2[0][0]                    \n",
      "__________________________________________________________________________________________________\n",
      "input_1 (InputLayer)            [(None, 5)]          0                                            \n",
      "__________________________________________________________________________________________________\n",
      "dense_1 (Dense)                 (None, 30)           930         dense[0][0]                      \n",
      "__________________________________________________________________________________________________\n",
      "concatenate (Concatenate)       (None, 35)           0           input_1[0][0]                    \n",
      "                                                                 dense_1[0][0]                    \n",
      "__________________________________________________________________________________________________\n",
      "dense_2 (Dense)                 (None, 1)            36          concatenate[0][0]                \n",
      "==================================================================================================\n",
      "Total params: 1,176\n",
      "Trainable params: 1,176\n",
      "Non-trainable params: 0\n",
      "__________________________________________________________________________________________________\n"
     ]
    }
   ],
   "source": [
    "#   多输入\n",
    "input_wide = keras.layers.Input(shape=[5])\n",
    "input_deep = keras.layers.Input(shape=[6])\n",
    "\n",
    "hidden1 = keras.layers.Dense(30,activation='relu')(input_deep)\n",
    "hidden2 =  keras.layers.Dense(30,activation='relu')(hidden1)\n",
    "## 类似于复合函数：f(x) = h (g(x))\n",
    "\n",
    "concat = keras.layers.concatenate([input_wide,hidden2])\n",
    "output = keras.layers.Dense(1)(concat)\n",
    "\n",
    "model = keras.models.Model(inputs =[input_wide,input_deep],outputs=[output])\n",
    "\n",
    "\n",
    "\n",
    "model.summary()\n",
    "\n",
    "\n",
    "model.compile(loss=\"mean_squared_error\",optimizer=keras.optimizers.SGD(0.001))\n",
    "callbacks = [keras.callbacks.EarlyStopping(patience=5, min_delta=1e-2)]"
   ]
  },
  {
   "cell_type": "code",
   "execution_count": 7,
   "metadata": {},
   "outputs": [
    {
     "name": "stdout",
     "output_type": "stream",
     "text": [
      "Train on 11610 samples, validate on 3870 samples\n",
      "Epoch 1/100\n",
      "11610/11610 [==============================] - 1s 90us/sample - loss: 1.8236 - val_loss: 0.9702\n",
      "Epoch 2/100\n",
      "11610/11610 [==============================] - 1s 44us/sample - loss: 0.7412 - val_loss: 0.7425\n",
      "Epoch 3/100\n",
      "11610/11610 [==============================] - 0s 41us/sample - loss: 0.6586 - val_loss: 0.6861\n",
      "Epoch 4/100\n",
      "11610/11610 [==============================] - 1s 43us/sample - loss: 0.6235 - val_loss: 0.6517\n",
      "Epoch 5/100\n",
      "11610/11610 [==============================] - 0s 42us/sample - loss: 0.5974 - val_loss: 0.6234\n",
      "Epoch 6/100\n",
      "11610/11610 [==============================] - 0s 42us/sample - loss: 0.5766 - val_loss: 0.6042\n",
      "Epoch 7/100\n",
      "11610/11610 [==============================] - 1s 48us/sample - loss: 0.5585 - val_loss: 0.5846\n",
      "Epoch 8/100\n",
      "11610/11610 [==============================] - 1s 46us/sample - loss: 0.5436 - val_loss: 0.5697\n",
      "Epoch 9/100\n",
      "11610/11610 [==============================] - 1s 48us/sample - loss: 0.5303 - val_loss: 0.5537\n",
      "Epoch 10/100\n",
      "11610/11610 [==============================] - 0s 42us/sample - loss: 0.5194 - val_loss: 0.5438\n",
      "Epoch 11/100\n",
      "11610/11610 [==============================] - 0s 41us/sample - loss: 0.5092 - val_loss: 0.5355\n",
      "Epoch 12/100\n",
      "11610/11610 [==============================] - 1s 47us/sample - loss: 0.5004 - val_loss: 0.5231\n",
      "Epoch 13/100\n",
      "11610/11610 [==============================] - 1s 45us/sample - loss: 0.4929 - val_loss: 0.5143\n",
      "Epoch 14/100\n",
      "11610/11610 [==============================] - 1s 47us/sample - loss: 0.4861 - val_loss: 0.5089\n",
      "Epoch 15/100\n",
      "11610/11610 [==============================] - 1s 43us/sample - loss: 0.4797 - val_loss: 0.5009\n",
      "Epoch 16/100\n",
      "11610/11610 [==============================] - 0s 41us/sample - loss: 0.4740 - val_loss: 0.4986\n",
      "Epoch 17/100\n",
      "11610/11610 [==============================] - 1s 44us/sample - loss: 0.4692 - val_loss: 0.4892\n",
      "Epoch 18/100\n",
      "11610/11610 [==============================] - 1s 46us/sample - loss: 0.4641 - val_loss: 0.4852\n",
      "Epoch 19/100\n",
      "11610/11610 [==============================] - 1s 49us/sample - loss: 0.4597 - val_loss: 0.4796\n",
      "Epoch 20/100\n",
      "11610/11610 [==============================] - 1s 50us/sample - loss: 0.4555 - val_loss: 0.4759\n",
      "Epoch 21/100\n",
      "11610/11610 [==============================] - 0s 42us/sample - loss: 0.4516 - val_loss: 0.4732\n",
      "Epoch 22/100\n",
      "11610/11610 [==============================] - 0s 42us/sample - loss: 0.4483 - val_loss: 0.4697\n",
      "Epoch 23/100\n",
      "11610/11610 [==============================] - 0s 42us/sample - loss: 0.4451 - val_loss: 0.4647\n",
      "Epoch 24/100\n",
      "11610/11610 [==============================] - 0s 42us/sample - loss: 0.4423 - val_loss: 0.4628\n",
      "Epoch 25/100\n",
      "11610/11610 [==============================] - 1s 44us/sample - loss: 0.4392 - val_loss: 0.4608\n",
      "Epoch 26/100\n",
      "11610/11610 [==============================] - 0s 41us/sample - loss: 0.4371 - val_loss: 0.4554\n",
      "Epoch 27/100\n",
      "11610/11610 [==============================] - 0s 41us/sample - loss: 0.4348 - val_loss: 0.4536\n",
      "Epoch 28/100\n",
      "11610/11610 [==============================] - 1s 45us/sample - loss: 0.4325 - val_loss: 0.4503\n",
      "Epoch 29/100\n",
      "11610/11610 [==============================] - 0s 41us/sample - loss: 0.4298 - val_loss: 0.4512\n",
      "Epoch 30/100\n",
      "11610/11610 [==============================] - 0s 43us/sample - loss: 0.4284 - val_loss: 0.4464\n",
      "Epoch 31/100\n",
      "11610/11610 [==============================] - 1s 44us/sample - loss: 0.4262 - val_loss: 0.4442\n",
      "Epoch 32/100\n",
      "11610/11610 [==============================] - 0s 43us/sample - loss: 0.4247 - val_loss: 0.4428\n",
      "Epoch 33/100\n",
      "11610/11610 [==============================] - 1s 43us/sample - loss: 0.4231 - val_loss: 0.4399\n",
      "Epoch 34/100\n",
      "11610/11610 [==============================] - 0s 42us/sample - loss: 0.4209 - val_loss: 0.4390\n",
      "Epoch 35/100\n",
      "11610/11610 [==============================] - 1s 48us/sample - loss: 0.4194 - val_loss: 0.4377\n",
      "Epoch 36/100\n",
      "11610/11610 [==============================] - 1s 46us/sample - loss: 0.4182 - val_loss: 0.4363\n",
      "Epoch 37/100\n",
      "11610/11610 [==============================] - 1s 47us/sample - loss: 0.4165 - val_loss: 0.4349\n",
      "Epoch 38/100\n",
      "11610/11610 [==============================] - 1s 47us/sample - loss: 0.4150 - val_loss: 0.4328\n"
     ]
    }
   ],
   "source": [
    "x_train_scaled_wide = x_train_scaled[:,:5]\n",
    "x_train_scaled_deep = x_train_scaled[:,2:]\n",
    "x_valid_scaled_wide = x_valid_scaled[:,:5]\n",
    "x_valid_scaled_deep = x_valid_scaled[:,2:]\n",
    "\n",
    "x_test_scaled_wide = x_test_scaled[:,:5]\n",
    "x_test_scaled_deep = x_test_scaled[:,2:]\n",
    "\n",
    "history = model.fit([x_train_scaled_wide,x_train_scaled_deep], y_train,\n",
    "                    validation_data = ([x_valid_scaled_wide,x_valid_scaled_deep], y_valid),\n",
    "                    epochs = 100,\n",
    "                    callbacks = callbacks)\n"
   ]
  },
  {
   "cell_type": "code",
   "execution_count": 8,
   "metadata": {},
   "outputs": [
    {
     "data": {
      "image/png": "[encoded data removed]",
      "text/plain": [
       "<Figure size 576x360 with 1 Axes>"
      ]
     },
     "metadata": {
      "needs_background": "light"
     },
     "output_type": "display_data"
    }
   ],
   "source": [
    "def plot_learning_curves(history):\n",
    "    pd.DataFrame(history.history).plot(figsize=(8, 5))\n",
    "    plt.grid(True)\n",
    "    plt.gca().set_ylim(0, 1)\n",
    "    plt.show()\n",
    "plot_learning_curves(history)\n"
   ]
  },
  {
   "cell_type": "code",
   "execution_count": 9,
   "metadata": {},
   "outputs": [
    {
     "data": {
      "text/plain": [
       "0.42729084445524584"
      ]
     },
     "execution_count": 9,
     "metadata": {},
     "output_type": "execute_result"
    }
   ],
   "source": [
    "model.evaluate([x_test_scaled_wide,x_test_scaled_deep], y_test, verbose=0)"
   ]
  },
  {
   "cell_type": "code",
   "execution_count": null,
   "metadata": {},
   "outputs": [],
   "source": []
  }
 ],
 "metadata": {
  "kernelspec": {
   "display_name": "Python 3",
   "language": "python",
   "name": "python3"
  },
  "language_info": {
   "codemirror_mode": {
    "name": "ipython",
    "version": 3
   },
   "file_extension": ".py",
   "mimetype": "text/x-python",
   "name": "python",
   "nbconvert_exporter": "python",
   "pygments_lexer": "ipython3",
   "version": "3.6.2"
  }
 },
 "nbformat": 4,
 "nbformat_minor": 2
}
